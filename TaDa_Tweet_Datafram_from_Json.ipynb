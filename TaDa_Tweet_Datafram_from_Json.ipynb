{
 "cells": [
  {
   "cell_type": "code",
   "execution_count": null,
   "metadata": {
    "collapsed": true
   },
   "outputs": [],
   "source": [
    "import os\n",
    "import json\n",
    "import glob   # --  used for getting a list of all the files in my directory\n",
    "import pandas as pd\n",
    "from itertools import * # for turning [[1],[2]] into [1,2]\n",
    "import dplython\n",
    "import datetime"
   ]
  },
  {
   "cell_type": "code",
   "execution_count": 1,
   "metadata": {},
   "outputs": [],
   "source": [
    "# set working directory\n",
    "os.chdir(\"/Users/ishitagopal/Box/twitter_data/AssemblyMembers\")\n",
    "os.getcwd()"
   ]
  },
  {
   "cell_type": "code",
   "execution_count": 2,
   "metadata": {},
   "outputs": [],
   "source": [
    "# force pandas to display all 100 rows and columns \n",
    "pd.set_option('display.max_columns', 100)\n",
    "pd.set_option('display.max_rows', 100)"
   ]
  },
  {
   "cell_type": "code",
   "execution_count": null,
   "metadata": {
    "collapsed": true
   },
   "outputs": [],
   "source": [
    "# read all the files in the twitter_data directory on Box\n",
    "read_files = glob.glob(\"*.json\")\n",
    "len(read_files) # -- there are 41 json files in the folder\n",
    "\n"
   ]
  },
  {
   "cell_type": "code",
   "execution_count": null,
   "metadata": {
    "collapsed": true
   },
   "outputs": [],
   "source": [
    "#Read in data from all the files and create a list of list with every individuals timeline \n",
    "#-- don't rerun this! \n",
    "\n",
    "# alltimelines = []\n",
    "# for file in read_files:\n",
    "#     with open(file, 'r') as f:\n",
    "#         timeline = json.load(f)\n",
    "#         alltimelines.append(timeline)"
   ]
  },
  {
   "cell_type": "code",
   "execution_count": null,
   "metadata": {
    "collapsed": true
   },
   "outputs": [],
   "source": [
    "# Checking the number of [] in the list -- should be 41 \n",
    "len(alltimelines)"
   ]
  },
  {
   "cell_type": "code",
   "execution_count": null,
   "metadata": {
    "collapsed": true
   },
   "outputs": [],
   "source": [
    "# since each individuals timeline is stored in a different list -- I want to combine everything \n",
    "\n",
    "alltweets = list(chain(*alltimelines))\n"
   ]
  },
  {
   "cell_type": "code",
   "execution_count": null,
   "metadata": {
    "collapsed": true
   },
   "outputs": [],
   "source": [
    "# Create dataframe\n",
    "\n",
    "data = {'tweet_id':[],\n",
    "        'language':[],\n",
    "        'screen_name': [],\n",
    "        'name':[],\n",
    "        'created_at': [],\n",
    "        'text': [], \n",
    "        'retweet_text':[],\n",
    "        'retweet_count': [], \n",
    "        'favorite_count': [],\n",
    "        'users_mentioned':[],\n",
    "        'source':[]}\n",
    "        \n",
    "#        'friends_count': [], 'followers_count': []}\n",
    "\n",
    "for tweet in alltimelines[0]:\n",
    "    # tweet id\n",
    "    data['tweet_id'].append(tweet[\"id_str\"])\n",
    "    # tweet language\n",
    "    data['language'].append(tweet['lang'])\n",
    "    #screen name \n",
    "    data['screen_name'].append(tweet['user']['screen_name'])\n",
    "    # name \n",
    "    data['name'].append(tweet['user']['name'])\n",
    "    # date of creation \n",
    "    data['created_at'].append(tweet['created_at'])\n",
    "    # text of tweet \n",
    "    data['text'].append(tweet['full_text'])\n",
    "    # text of retweet\n",
    "    if len( tweet.get('retweeted_status',''))>0:\n",
    "        data['retweet_text'].append(tweet.get('retweeted_status')[\"full_text\"])\n",
    "    else:\n",
    "        data['retweet_text'].append('')\n",
    "    # number of times tweet was retweeted    \n",
    "    data['retweet_count'].append(tweet['retweet_count'])\n",
    "    # number of tmes tweet was favorited\n",
    "    data['favorite_count'].append(tweet['favorited'])\n",
    "    # users mentioned in the tweet \n",
    "    data['users_mentioned'].append(tweet[\"entities\"].get('user_mentions',''))\n",
    "    # device from which tweet was tweeted\n",
    "    data['source'].append(tweet[\"source\"])\n",
    "    # location \n",
    "    "
   ]
  },
  {
   "cell_type": "code",
   "execution_count": null,
   "metadata": {
    "collapsed": true
   },
   "outputs": [],
   "source": [
    "# create a dataframe using the dictionary created above -- rows contain a single tweet\n",
    "assembly = pd.DataFrame(data)\n"
   ]
  },
  {
   "cell_type": "code",
   "execution_count": null,
   "metadata": {},
   "outputs": [],
   "source": [
    "# convert string to dates \n",
    "assembly['created_at'] = pd.to_datetime(assembly['created_at'])\n",
    "assembly['created_at_date'] = assembly['created_at'].dt.date\n",
    "assembly['created_at_year'] = assembly['created_at'].dt.year\n"
   ]
  },
  {
   "cell_type": "code",
   "execution_count": null,
   "metadata": {},
   "outputs": [],
   "source": [
    "assembly['created_at_year'].value_counts()"
   ]
  },
  {
   "cell_type": "code",
   "execution_count": null,
   "metadata": {},
   "outputs": [],
   "source": [
    "# Select 2019\n",
    "assembly19 = assembly.loc[assembly['created_at_year']==2019,]"
   ]
  },
  {
   "cell_type": "code",
   "execution_count": null,
   "metadata": {},
   "outputs": [],
   "source": [
    "# Select January 2019 and create an integer for each day\n",
    "assemblyJan = assembly19.loc[assembly19['created_at'].dt.month == 1,]\n",
    "assemblyJan['created_at_day']= assemblyJan['created_at'].dt.day"
   ]
  },
  {
   "cell_type": "code",
   "execution_count": null,
   "metadata": {
    "collapsed": true
   },
   "outputs": [],
   "source": [
    "# save data for analysis \n",
    "assemblyJan.to_csv(\"assemblyR.csv\")"
   ]
  }
 ],
 "metadata": {
  "kernelspec": {
   "display_name": "Python 3",
   "language": "python",
   "name": "python3"
  },
  "language_info": {
   "codemirror_mode": {
    "name": "ipython",
    "version": 3
   },
   "file_extension": ".py",
   "mimetype": "text/x-python",
   "name": "python",
   "nbconvert_exporter": "python",
   "pygments_lexer": "ipython3",
   "version": "3.7.4"
  }
 },
 "nbformat": 4,
 "nbformat_minor": 1
}
